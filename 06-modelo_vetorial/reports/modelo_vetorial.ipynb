{
  "nbformat": 4,
  "nbformat_minor": 0,
  "metadata": {
    "colab": {
      "name": "modelo_vetorial.ipynb",
      "version": "0.3.2",
      "provenance": [],
      "include_colab_link": true
    },
    "kernelspec": {
      "name": "python3",
      "display_name": "Python 3"
    }
  },
  "cells": [
    {
      "cell_type": "markdown",
      "metadata": {
        "id": "view-in-github",
        "colab_type": "text"
      },
      "source": [
        "<a href=\"https://colab.research.google.com/github/ivynasantino/mineracao-de-dados/blob/master/06-modelo_vetorial/reports/modelo_vetorial.ipynb\" target=\"_parent\"><img src=\"https://colab.research.google.com/assets/colab-badge.svg\" alt=\"Open In Colab\"/></a>"
      ]
    },
    {
      "cell_type": "markdown",
      "metadata": {
        "id": "7uTjsuErEtYj",
        "colab_type": "text"
      },
      "source": [
        "## Modelo Vetorial\n",
        "\n",
        "Nessa atividade a ideia é implementar várias instanciações do modelo vetorial, a partir dos dados coletados do site El país."
      ]
    },
    {
      "cell_type": "code",
      "metadata": {
        "id": "91rZDHHLEWpc",
        "colab_type": "code",
        "cellView": "form",
        "outputId": "d5d91db8-8377-4892-a325-36eddce6a440",
        "colab": {
          "base_uri": "https://localhost:8080/",
          "height": 68
        }
      },
      "source": [
        "# @title Imports\n",
        "import pandas as pd\n",
        "import math\n",
        "\n",
        "import re\n",
        "\n",
        "import nltk\n",
        "from nltk.corpus import stopwords\n",
        "from nltk.tokenize import RegexpTokenizer\n",
        "\n",
        "nltk.download('stopwords')"
      ],
      "execution_count": 102,
      "outputs": [
        {
          "output_type": "stream",
          "text": [
            "[nltk_data] Downloading package stopwords to /root/nltk_data...\n",
            "[nltk_data]   Package stopwords is already up-to-date!\n"
          ],
          "name": "stdout"
        },
        {
          "output_type": "execute_result",
          "data": {
            "text/plain": [
              "True"
            ]
          },
          "metadata": {
            "tags": []
          },
          "execution_count": 102
        }
      ]
    },
    {
      "cell_type": "code",
      "metadata": {
        "id": "M6Rnf3orFGg1",
        "colab_type": "code",
        "cellView": "form",
        "colab": {}
      },
      "source": [
        "# @title Dataframe: El país\n",
        "elpais = pd.read_csv(\"https://raw.githubusercontent.com/ivynasantino/mineracao-de-dados/master/02-processamento_de_texto/data/results.csv\")"
      ],
      "execution_count": 0,
      "outputs": []
    },
    {
      "cell_type": "markdown",
      "metadata": {
        "id": "lrrf9MGIGfUD",
        "colab_type": "text"
      },
      "source": [
        "### Questões que serão abordadas:\n",
        "\n",
        "**1.** Reconstruir o índice considerando o conjunto de dados que indicamos. Esses são os dados coletados por Bernardi e os estaremos usando para facilitar a correção da atividade. Se você já estiver usando esses dados não precisa reconstruir o índice. \n",
        "\n",
        "**2.** Refinar o índice invertido de forma a também incluir o IDF (inverse document frequency) de cada termo do dicionário.\n",
        "\n",
        "**3.** Implementar as seguintes versões do modelo vetorial: \n",
        "\n",
        "  **a)** Representação binária\n",
        "  \n",
        "  **b)** TF (lembre-se que esse modelo já está implementado)\n",
        "  \n",
        "  **c)** TF-IDF\n",
        "  \n",
        "  **d)** BM25* (não usaremos Okapi já que os documentos não tem grande variação de tamanho)\n",
        "  \n",
        "**4.** Execute os algoritmos separadamente em 3 consultas de sua escolha e retorne os top-5 documentos mais similares à cada consulta.\n",
        "\n",
        "**5.** Compare os resultados encontrados e responda.\n",
        "\n",
        "  **a)** Quais modelos você acha que trouxe os melhores resultados? Por que? Inspecione os documentos retornados para melhor embasar sua resposta.\n",
        "\n",
        "  **b)** Calcule e reporte o overlap par-a-par entre os resultados de cada modelo ([usando o índice de Jaccard](https://en.wikipedia.org/wiki/Jaccard_index))"
      ]
    },
    {
      "cell_type": "markdown",
      "metadata": {
        "id": "mM-kppwPL28U",
        "colab_type": "text"
      },
      "source": [
        "A princípio iremos criar algumas funções auxiliares para facilitar o trabalho posteriomente."
      ]
    },
    {
      "cell_type": "code",
      "metadata": {
        "id": "7y3nQPqkKG_N",
        "colab_type": "code",
        "colab": {}
      },
      "source": [
        "def num_of_docs():\n",
        "  return len(elpais['text'])"
      ],
      "execution_count": 0,
      "outputs": []
    },
    {
      "cell_type": "code",
      "metadata": {
        "id": "Y-Pyk03mI27h",
        "colab_type": "code",
        "colab": {}
      },
      "source": [
        "def top5(r):\n",
        "  return sorted(r, key = lambda x: x[1], reverse = True)[:5]"
      ],
      "execution_count": 0,
      "outputs": []
    },
    {
      "cell_type": "markdown",
      "metadata": {
        "id": "DkiyYSLGMW59",
        "colab_type": "text"
      },
      "source": [
        "### Redefinindo índice invertido\n",
        "\n",
        "Nesse notebook, a ideia da construção do índice invertido, além dos parâmetros de chave e frequência dos documentos, iremos construir o idf.\n",
        "\n",
        "Para calcular o novo parâmetro, seguimos o seguinte cálculo:\n",
        "\n",
        "> **IDF = log(M+1) / k**\n",
        "\n",
        "- M: total de documentos na coleção\n",
        "- k: frequência do documento\n",
        "\n",
        "\n",
        "---\n",
        "\n",
        "Dessa maneira, fazemos esse procedimento logo abaixo:"
      ]
    },
    {
      "cell_type": "code",
      "metadata": {
        "id": "_BTUNn33HjjZ",
        "colab_type": "code",
        "colab": {}
      },
      "source": [
        "toker = RegexpTokenizer(r'\\w+')\n",
        "stopwords = stopwords.words(\"portuguese\") \n",
        "\n",
        "def buildIndex():\n",
        "  index = {}\n",
        "  n = 0\n",
        "  for doc in elpais.text:\n",
        "    n += 1\n",
        "    tokens = [token for token in toker.tokenize(doc.lower()) \n",
        "              if token not in stopwords \n",
        "              and len(token) > 3\n",
        "              and not bool(re.search(r'\\d', token))]\n",
        " \n",
        "    for t in tokens:\n",
        "      freq = tokens.count(t)\n",
        "      if t not in index:\n",
        "        index[t] = {}\n",
        "      if n not in index[t]:\n",
        "        index[t][n] = freq\n",
        "  return index"
      ],
      "execution_count": 0,
      "outputs": []
    },
    {
      "cell_type": "code",
      "metadata": {
        "id": "uMIsbjJNH3oR",
        "colab_type": "code",
        "colab": {}
      },
      "source": [
        "index = buildIndex()"
      ],
      "execution_count": 0,
      "outputs": []
    },
    {
      "cell_type": "code",
      "metadata": {
        "id": "fAdKhH7791O1",
        "colab_type": "code",
        "colab": {}
      },
      "source": [
        "for post in index:\n",
        "  k = len(index[post])\n",
        "  idf = math.log(num_of_docs() + 1) / k\n",
        "  index[post]['idf'] = round(idf, 3)"
      ],
      "execution_count": 0,
      "outputs": []
    },
    {
      "cell_type": "code",
      "metadata": {
        "id": "wB--2suY-nxV",
        "colab_type": "code",
        "colab": {}
      },
      "source": [
        "vocabulary = index.keys()"
      ],
      "execution_count": 0,
      "outputs": []
    },
    {
      "cell_type": "markdown",
      "metadata": {
        "id": "Uj__NGiLOQf9",
        "colab_type": "text"
      },
      "source": [
        "Agora, nosso objetivo é implementar as versões do modelo vetorial para:\n",
        "\n",
        "- Representação binária\n",
        "- TF\n",
        "- TF-IDF\n",
        "- BM25"
      ]
    },
    {
      "cell_type": "markdown",
      "metadata": {
        "id": "8N1DY4C7QA_1",
        "colab_type": "text"
      },
      "source": [
        "Para o modelo binário, iremos construir um vetor preenchidos com zeros e de acordo com a presença do termo é setado para um."
      ]
    },
    {
      "cell_type": "code",
      "metadata": {
        "id": "G05YzlHfYgu3",
        "colab_type": "code",
        "colab": {}
      },
      "source": [
        "toker = RegexpTokenizer(r'\\w+')\n",
        "stopwords = stopwords.words(\"portuguese\") \n",
        "\n",
        "def binary_rep(query):\n",
        "  terms = query.split()\n",
        "  tokens = [token for token in toker.tokenize(doc.lower()) \n",
        "              if token not in stopwords \n",
        "              and len(token) > 3\n",
        "              and not bool(re.search(r'\\d', token))]\n",
        "\n",
        "  q = {}\n",
        "  d = {}\n",
        "  \n",
        "  for term in terms:\n",
        "    q[term], d[term] = 0,0\n",
        "    if term in vocabulary:\n",
        "      q[term] = 1\n",
        "    if term in tokens:\n",
        "      d[term] = 1\n",
        "  \n",
        "  m = 0\n",
        "  for term in terms:\n",
        "    if q[term] != 0 and d[term] != 0:\n",
        "      m += q[term] * d[term]\n",
        "  return m"
      ],
      "execution_count": 0,
      "outputs": []
    },
    {
      "cell_type": "markdown",
      "metadata": {
        "id": "0zCdDkvENhBs",
        "colab_type": "text"
      },
      "source": [
        "A segunda versão, temos tf"
      ]
    },
    {
      "cell_type": "code",
      "metadata": {
        "id": "eE3lUfYXYdnk",
        "colab_type": "code",
        "colab": {}
      },
      "source": [
        "toker = RegexpTokenizer(r'\\w+')\n",
        "stopwords = stopwords.words(\"portuguese\") \n",
        "\n",
        "def tf_rep(query):\n",
        "  terms = query.split()\n",
        "  tokens = [token for token in toker.tokenize(doc.lower()) \n",
        "              if token not in stopwords \n",
        "              and len(token) > 3\n",
        "              and not bool(re.search(r'\\d', token))]\n",
        "  \n",
        "  q = {}\n",
        "  d = {}\n",
        "  \n",
        "  for term in terms:\n",
        "    q[term], d[term] = 0,0\n",
        "    if term in vocabulary:\n",
        "      q[term] = terms.count(term)\n",
        "      \n",
        "    if term in tokens:\n",
        "      d[term] = tokens.count(term)\n",
        "  \n",
        "  m = 0\n",
        "  for term in terms:\n",
        "    if q[term] != 0 and d[term] != 0:\n",
        "      m += q[term] * d[term]\n",
        "      \n",
        "  return m"
      ],
      "execution_count": 0,
      "outputs": []
    },
    {
      "cell_type": "markdown",
      "metadata": {
        "id": "fc_396A1RQix",
        "colab_type": "text"
      },
      "source": [
        "Como terceiro ponto, temos a construção do tf idf"
      ]
    },
    {
      "cell_type": "code",
      "metadata": {
        "id": "VHP4ROYPYaQf",
        "colab_type": "code",
        "colab": {}
      },
      "source": [
        "toker = RegexpTokenizer(r'\\w+')\n",
        "stopwords = stopwords.words(\"portuguese\") \n",
        "\n",
        "def tf_idf_rep(query):\n",
        "  terms = query.split()\n",
        "  tokens = [token for token in toker.tokenize(doc.lower()) \n",
        "              if token not in stopwords \n",
        "              and len(token) > 3\n",
        "              and not bool(re.search(r'\\d', token))]\n",
        "  \n",
        "  q = {}\n",
        "  d = {}\n",
        "  \n",
        "  for term in terms:\n",
        "    q[term], d[term] = 0,0\n",
        "    if term in vocabulary:\n",
        "      q[term] = terms.count(term)\n",
        "      \n",
        "    if term in tokens:\n",
        "      d[term] = tokens.count(term)\n",
        "  \n",
        "  m = 0\n",
        "  for term in terms:\n",
        "    idf = index[term]['idf']\n",
        "    if q[term] != 0 and d[term] != 0:\n",
        "      m += q[term] * d[term] * idf\n",
        "      \n",
        "  return round(m , 2)"
      ],
      "execution_count": 0,
      "outputs": []
    },
    {
      "cell_type": "markdown",
      "metadata": {
        "id": "05qD8K2NRY-B",
        "colab_type": "text"
      },
      "source": [
        "Por fim, temos a versão de representação do BM25"
      ]
    },
    {
      "cell_type": "code",
      "metadata": {
        "id": "c2bUjdRqYRAr",
        "colab_type": "code",
        "colab": {}
      },
      "source": [
        "toker = RegexpTokenizer(r'\\w+')\n",
        "stopwords = stopwords.words(\"portuguese\") \n",
        "\n",
        "def bm25_rep(query, k):\n",
        "  terms = query.split()\n",
        "  tokens = [token for token in toker.tokenize(doc.lower()) \n",
        "              if token not in stopwords \n",
        "              and len(token) > 3\n",
        "              and not bool(re.search(r'\\d', token))]\n",
        "  mtd = []\n",
        "  for term in terms:\n",
        "    if term in tokens:\n",
        "      mtd.append(term)\n",
        "  \n",
        "  m = 0\n",
        "  for mt in mtd:\n",
        "    cq = terms.count(mt)\n",
        "    cd = tokens.count(mt)\n",
        "    m = num_of_docs()\n",
        "    dw = len(index[mt].keys()) - 1\n",
        "    m += cq * (((k + 1) * cd) / (cd + k)) * math.log((m + 1) / dw)\n",
        "    \n",
        "  return round(m, 2)"
      ],
      "execution_count": 0,
      "outputs": []
    },
    {
      "cell_type": "markdown",
      "metadata": {
        "id": "jLy_FyhAVthQ",
        "colab_type": "text"
      },
      "source": [
        "Feita as versões de modelos vetoriais, agora iremos executá-los separadamente nas consultas a seguir:"
      ]
    },
    {
      "cell_type": "code",
      "metadata": {
        "id": "I3LaKTswVsr2",
        "colab_type": "code",
        "colab": {}
      },
      "source": [
        "query = ['jair bolsonaro', 'lula livre', 'educação']"
      ],
      "execution_count": 0,
      "outputs": []
    },
    {
      "cell_type": "markdown",
      "metadata": {
        "id": "7yROhMJFWma0",
        "colab_type": "text"
      },
      "source": [
        "Criada a consulta, o objetivo agora é retornar o top 5 dos documentos mais similares a cada termo."
      ]
    },
    {
      "cell_type": "code",
      "metadata": {
        "id": "8c4GIOwwXHIZ",
        "colab_type": "code",
        "colab": {}
      },
      "source": [
        "data = {\n",
        "    'query': [],\n",
        "    'binary': [],\n",
        "    'tf': [],\n",
        "    'tf_idf': [],\n",
        "    'bm25': []\n",
        "}\n",
        "\n",
        "for q in query:\n",
        "  binary, tf, tf_idf, bm25 = [], [], [], []\n",
        "  n = 0\n",
        "  \n",
        "  for doc in elpais.text:\n",
        "    binary.append((n ,binary_rep(q)))\n",
        "    tf.append((n, tf_rep(q)))\n",
        "    tf_idf.append((n, tf_idf_rep(q)))\n",
        "    bm25.append((n, bm25_rep(q, 10)))\n",
        "    n += 1\n",
        "\n",
        "  data['query'].append(q)\n",
        "  data['binary'].append(top5(binary))\n",
        "  data['tf'].append(top5(tf))\n",
        "  data['tf_idf'].append(top5(tf_idf))\n",
        "  data['bm25'].append(top5(bm25))"
      ],
      "execution_count": 0,
      "outputs": []
    },
    {
      "cell_type": "markdown",
      "metadata": {
        "id": "2NuL8ZrgX-iB",
        "colab_type": "text"
      },
      "source": [
        "Convertendo para um dataframe, facilitando assim a visualização, temos:"
      ]
    },
    {
      "cell_type": "code",
      "metadata": {
        "id": "8NMPFMDzVrfj",
        "colab_type": "code",
        "colab": {
          "base_uri": "https://localhost:8080/",
          "height": 142
        },
        "outputId": "c962a8f6-9e46-40de-916a-0d163738a314"
      },
      "source": [
        "pd.options.display.max_colwidth = 100\n",
        "pd.DataFrame(data)"
      ],
      "execution_count": 95,
      "outputs": [
        {
          "output_type": "execute_result",
          "data": {
            "text/html": [
              "<div>\n",
              "<style scoped>\n",
              "    .dataframe tbody tr th:only-of-type {\n",
              "        vertical-align: middle;\n",
              "    }\n",
              "\n",
              "    .dataframe tbody tr th {\n",
              "        vertical-align: top;\n",
              "    }\n",
              "\n",
              "    .dataframe thead th {\n",
              "        text-align: right;\n",
              "    }\n",
              "</style>\n",
              "<table border=\"1\" class=\"dataframe\">\n",
              "  <thead>\n",
              "    <tr style=\"text-align: right;\">\n",
              "      <th></th>\n",
              "      <th>query</th>\n",
              "      <th>binary</th>\n",
              "      <th>tf</th>\n",
              "      <th>tf_idf</th>\n",
              "      <th>bm25</th>\n",
              "    </tr>\n",
              "  </thead>\n",
              "  <tbody>\n",
              "    <tr>\n",
              "      <th>0</th>\n",
              "      <td>jair bolsonaro</td>\n",
              "      <td>[(0, 2), (1, 2), (24, 2), (85, 2), (125, 2)]</td>\n",
              "      <td>[(150, 52), (206, 48), (165, 39), (18, 26), (215, 13)]</td>\n",
              "      <td>[(206, 6.42), (150, 5.38), (165, 3.55), (18, 2.11), (215, 1.25)]</td>\n",
              "      <td>[(150, 260.9), (165, 260.4), (206, 260.27), (18, 259.46), (41, 256.9)]</td>\n",
              "    </tr>\n",
              "    <tr>\n",
              "      <th>1</th>\n",
              "      <td>lula livre</td>\n",
              "      <td>[(25, 2), (171, 2), (237, 2), (4, 1), (14, 1)]</td>\n",
              "      <td>[(14, 9), (210, 3), (215, 3), (233, 3), (25, 2)]</td>\n",
              "      <td>[(14, 3.82), (215, 1.27), (233, 1.27), (167, 0.85), (203, 0.85)]</td>\n",
              "      <td>[(14, 264.82), (215, 256.71), (233, 256.71), (210, 254.75), (167, 254.57)]</td>\n",
              "    </tr>\n",
              "    <tr>\n",
              "      <th>2</th>\n",
              "      <td>educação</td>\n",
              "      <td>[(2, 1), (17, 1), (31, 1), (36, 1), (86, 1)]</td>\n",
              "      <td>[(220, 22), (221, 11), (129, 7), (238, 6), (36, 5)]</td>\n",
              "      <td>[(220, 4.18), (221, 2.09), (129, 1.33), (238, 1.14), (36, 0.95)]</td>\n",
              "      <td>[(220, 265.56), (221, 261.61), (129, 258.92), (238, 258.03), (36, 257.03)]</td>\n",
              "    </tr>\n",
              "  </tbody>\n",
              "</table>\n",
              "</div>"
            ],
            "text/plain": [
              "            query  ...                                                                        bm25\n",
              "0  jair bolsonaro  ...      [(150, 260.9), (165, 260.4), (206, 260.27), (18, 259.46), (41, 256.9)]\n",
              "1      lula livre  ...  [(14, 264.82), (215, 256.71), (233, 256.71), (210, 254.75), (167, 254.57)]\n",
              "2        educação  ...  [(220, 265.56), (221, 261.61), (129, 258.92), (238, 258.03), (36, 257.03)]\n",
              "\n",
              "[3 rows x 5 columns]"
            ]
          },
          "metadata": {
            "tags": []
          },
          "execution_count": 95
        }
      ]
    },
    {
      "cell_type": "markdown",
      "metadata": {
        "id": "VMdJ-xvVaxi1",
        "colab_type": "text"
      },
      "source": [
        "A partir da tabela acima, podemos intuitivamente concluir qual das versões de modelo vetorial tiveram melhores resultados. E como resposta, o modelo BM25 consegue equilibrar entre penalização e recompensa dos documentos e, no \"olhômetro\" houve uma pequena variação de score, dessa forma, podemos dizer que, empiricamente, que possa ser um bom canditado a melhor modelo, já que existem métricas para esse tipo de medição, no entanto não estão sendo utilizadas nesse notebbok."
      ]
    }
  ]
}