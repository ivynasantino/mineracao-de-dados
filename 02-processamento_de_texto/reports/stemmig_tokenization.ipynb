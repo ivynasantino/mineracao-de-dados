{
  "nbformat": 4,
  "nbformat_minor": 0,
  "metadata": {
    "colab": {
      "name": "stemmig_tokenization.ipynb",
      "version": "0.3.2",
      "provenance": [],
      "collapsed_sections": [],
      "include_colab_link": true
    },
    "kernelspec": {
      "name": "python3",
      "display_name": "Python 3"
    }
  },
  "cells": [
    {
      "cell_type": "markdown",
      "metadata": {
        "id": "view-in-github",
        "colab_type": "text"
      },
      "source": [
        "<a href=\"https://colab.research.google.com/github/ivynasantino/mineracao-de-dados/blob/master/02-processamento_de_texto/reports/stemmig_tokenization.ipynb\" target=\"_parent\"><img src=\"https://colab.research.google.com/assets/colab-badge.svg\" alt=\"Open In Colab\"/></a>"
      ]
    },
    {
      "metadata": {
        "id": "wOECeJHEhOGG",
        "colab_type": "text"
      },
      "cell_type": "markdown",
      "source": [
        "#Stemming e Tokenização"
      ]
    },
    {
      "metadata": {
        "id": "pkq55-UJha6a",
        "colab_type": "text"
      },
      "cell_type": "markdown",
      "source": [
        "Nessa atividade iremos exercitar alguns conceitos sobre processamento de texto usando a coleção coletada nas atividades anteriores.\n",
        "\n"
      ]
    },
    {
      "metadata": {
        "id": "MJx8PVihh5v6",
        "colab_type": "code",
        "outputId": "915bfef6-56b5-4355-8a86-bada80a8c703",
        "colab": {
          "base_uri": "https://localhost:8080/",
          "height": 153
        }
      },
      "cell_type": "code",
      "source": [
        "import pandas as pd\n",
        "import numpy as np\n",
        "\n",
        "import re\n",
        "\n",
        "import nltk\n",
        "from nltk.corpus import stopwords\n",
        "from nltk.tokenize import RegexpTokenizer\n",
        "from nltk.stem import RSLPStemmer\n",
        "\n",
        "nltk.download('punkt')\n",
        "nltk.download('stopwords')\n",
        "nltk.download('averaged_perceptron_tagger')\n",
        "\n",
        "import matplotlib.pyplot as plt\n",
        "import seaborn as sns"
      ],
      "execution_count": 12,
      "outputs": [
        {
          "output_type": "stream",
          "text": [
            "[nltk_data] Downloading package punkt to /root/nltk_data...\n",
            "[nltk_data]   Package punkt is already up-to-date!\n",
            "[nltk_data] Downloading package stopwords to /root/nltk_data...\n",
            "[nltk_data]   Package stopwords is already up-to-date!\n",
            "[nltk_data] Downloading package averaged_perceptron_tagger to\n",
            "[nltk_data]     /root/nltk_data...\n",
            "[nltk_data]   Package averaged_perceptron_tagger is already up-to-\n",
            "[nltk_data]       date!\n"
          ],
          "name": "stdout"
        }
      ]
    },
    {
      "metadata": {
        "id": "lFoC9sO_iHuz",
        "colab_type": "code",
        "colab": {}
      },
      "cell_type": "code",
      "source": [
        "elpais = pd.read_csv(\"https://raw.githubusercontent.com/ivynasantino/mineracao-de-dados/master/02-processamento_de_texto/data/results.csv\")"
      ],
      "execution_count": 0,
      "outputs": []
    },
    {
      "metadata": {
        "id": "QwF0WPsKFBV_",
        "colab_type": "code",
        "colab": {}
      },
      "cell_type": "code",
      "source": [
        "toker = RegexpTokenizer(r'\\w+')\n",
        "stopwords = stopwords.words(\"portuguese\") \n",
        "\n",
        "def tokens(type_token):\n",
        "  result = []\n",
        "  for n in elpais.text:\n",
        "    tokens = [token for token in toker.tokenize(n.lower()) \n",
        "              if token not in stopwords and not bool(re.search(r'\\d', token))]\n",
        "  if type_token == 'bigram':\n",
        "    result.extend(list(nltk.bigrams(tokens)))\n",
        "  elif type_token == 'statistics collection':\n",
        "    result.extend(tokens)\n",
        "  return result"
      ],
      "execution_count": 0,
      "outputs": []
    },
    {
      "metadata": {
        "id": "F--FNMiIGIwH",
        "colab_type": "code",
        "colab": {
          "base_uri": "https://localhost:8080/",
          "height": 204
        },
        "outputId": "8bed6942-b323-45ff-ea2b-4de9c641cd42"
      },
      "cell_type": "code",
      "source": [
        "total_docs = elpais.text.count()\n",
        "\n",
        "wl = tokens('statistics collection')\n",
        "\n",
        "total_word_occur = len(wl) \n",
        "vocabulary_size = len(set(wl)) \n",
        "\n",
        "words = pd.DataFrame(wl, columns = ['word'])\n",
        "\n",
        "word_count = words.word.value_counts().reset_index()\n",
        "\n",
        "word_count.columns = ['word', 'freq']\n",
        "word_count['r'] = word_count.freq.rank(ascending = False, \n",
        "                                       method = 'first')\n",
        "\n",
        "occur_th = len(word_count[word_count.freq > 1000])\n",
        "\n",
        "occur_once = len(word_count[word_count.freq == 1])\n",
        "\n",
        "\n",
        "sta = ['Total documents', \n",
        "       'Total word occurences', \n",
        "       'Vocabulary size', \n",
        "       'Words occuring > 1000 times', \n",
        "       'Words occuring once']\n",
        "\n",
        "values = [total_docs, \n",
        "          total_word_occur, \n",
        "          vocabulary_size, \n",
        "          occur_th, \n",
        "          occur_once]\n",
        "\n",
        "table = pd.DataFrame(data = {'statistics collection': sta,\n",
        "                            'values': values})\n",
        "\n",
        "table"
      ],
      "execution_count": 14,
      "outputs": [
        {
          "output_type": "execute_result",
          "data": {
            "text/html": [
              "<div>\n",
              "<style scoped>\n",
              "    .dataframe tbody tr th:only-of-type {\n",
              "        vertical-align: middle;\n",
              "    }\n",
              "\n",
              "    .dataframe tbody tr th {\n",
              "        vertical-align: top;\n",
              "    }\n",
              "\n",
              "    .dataframe thead th {\n",
              "        text-align: right;\n",
              "    }\n",
              "</style>\n",
              "<table border=\"1\" class=\"dataframe\">\n",
              "  <thead>\n",
              "    <tr style=\"text-align: right;\">\n",
              "      <th></th>\n",
              "      <th>statistics collection</th>\n",
              "      <th>values</th>\n",
              "    </tr>\n",
              "  </thead>\n",
              "  <tbody>\n",
              "    <tr>\n",
              "      <th>0</th>\n",
              "      <td>Total documents</td>\n",
              "      <td>249</td>\n",
              "    </tr>\n",
              "    <tr>\n",
              "      <th>1</th>\n",
              "      <td>Total word occurences</td>\n",
              "      <td>1884</td>\n",
              "    </tr>\n",
              "    <tr>\n",
              "      <th>2</th>\n",
              "      <td>Vocabulary size</td>\n",
              "      <td>1032</td>\n",
              "    </tr>\n",
              "    <tr>\n",
              "      <th>3</th>\n",
              "      <td>Words occuring &gt; 1000 times</td>\n",
              "      <td>0</td>\n",
              "    </tr>\n",
              "    <tr>\n",
              "      <th>4</th>\n",
              "      <td>Words occuring once</td>\n",
              "      <td>750</td>\n",
              "    </tr>\n",
              "  </tbody>\n",
              "</table>\n",
              "</div>"
            ],
            "text/plain": [
              "         statistics collection  values\n",
              "0              Total documents     249\n",
              "1        Total word occurences    1884\n",
              "2              Vocabulary size    1032\n",
              "3  Words occuring > 1000 times       0\n",
              "4          Words occuring once     750"
            ]
          },
          "metadata": {
            "tags": []
          },
          "execution_count": 14
        }
      ]
    }
  ]
}