{
  "nbformat": 4,
  "nbformat_minor": 0,
  "metadata": {
    "colab": {
      "name": "avaliacao_de_sistemas_RI.ipynb",
      "version": "0.3.2",
      "provenance": [],
      "include_colab_link": true
    },
    "kernelspec": {
      "name": "python3",
      "display_name": "Python 3"
    }
  },
  "cells": [
    {
      "cell_type": "markdown",
      "metadata": {
        "id": "view-in-github",
        "colab_type": "text"
      },
      "source": [
        "<a href=\"https://colab.research.google.com/github/ivynasantino/mineracao-de-dados/blob/master/avaliacao_de_sistemas_RI/reports/avaliacao_de_sistemas_RI.ipynb\" target=\"_parent\"><img src=\"https://colab.research.google.com/assets/colab-badge.svg\" alt=\"Open In Colab\"/></a>"
      ]
    },
    {
      "cell_type": "markdown",
      "metadata": {
        "id": "OJBkPmQdd2ZC",
        "colab_type": "text"
      },
      "source": [
        "## Avaliação de sistemas de recuperação da informação"
      ]
    },
    {
      "cell_type": "code",
      "metadata": {
        "id": "LQJ8rlIFcmgn",
        "colab_type": "code",
        "colab": {
          "base_uri": "https://localhost:8080/",
          "height": 68
        },
        "outputId": "4f7a9f4e-6e31-406a-b549-be8c82338e46"
      },
      "source": [
        "# @title Imports\n",
        "import pandas as pd\n",
        "import math\n",
        "\n",
        "import re\n",
        "\n",
        "import nltk\n",
        "from nltk.corpus import stopwords\n",
        "from nltk.tokenize import RegexpTokenizer\n",
        "\n",
        "nltk.download('stopwords')"
      ],
      "execution_count": 1,
      "outputs": [
        {
          "output_type": "stream",
          "text": [
            "[nltk_data] Downloading package stopwords to /root/nltk_data...\n",
            "[nltk_data]   Unzipping corpora/stopwords.zip.\n"
          ],
          "name": "stdout"
        },
        {
          "output_type": "execute_result",
          "data": {
            "text/plain": [
              "True"
            ]
          },
          "metadata": {
            "tags": []
          },
          "execution_count": 1
        }
      ]
    },
    {
      "cell_type": "code",
      "metadata": {
        "id": "mn39wit4e_Jx",
        "colab_type": "code",
        "colab": {}
      },
      "source": [
        "# @title Dataframe: El país\n",
        "elpais = pd.read_csv(\"https://raw.githubusercontent.com/ivynasantino/mineracao-de-dados/master/02-processamento_de_texto/data/results.csv\")"
      ],
      "execution_count": 0,
      "outputs": []
    },
    {
      "cell_type": "code",
      "metadata": {
        "id": "XZ6vtYvffDEC",
        "colab_type": "code",
        "colab": {}
      },
      "source": [
        "# @title Dataframe: Gabarito"
      ],
      "execution_count": 0,
      "outputs": []
    }
  ]
}