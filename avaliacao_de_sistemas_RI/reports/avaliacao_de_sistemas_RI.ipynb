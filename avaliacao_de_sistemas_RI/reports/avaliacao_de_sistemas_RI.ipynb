{
  "nbformat": 4,
  "nbformat_minor": 0,
  "metadata": {
    "colab": {
      "name": "avaliacao_de_sistemas_RI.ipynb",
      "version": "0.3.2",
      "provenance": [],
      "include_colab_link": true
    },
    "kernelspec": {
      "name": "python3",
      "display_name": "Python 3"
    }
  },
  "cells": [
    {
      "cell_type": "markdown",
      "metadata": {
        "id": "view-in-github",
        "colab_type": "text"
      },
      "source": [
        "<a href=\"https://colab.research.google.com/github/ivynasantino/mineracao-de-dados/blob/master/avaliacao_de_sistemas_RI/reports/avaliacao_de_sistemas_RI.ipynb\" target=\"_parent\"><img src=\"https://colab.research.google.com/assets/colab-badge.svg\" alt=\"Open In Colab\"/></a>"
      ]
    },
    {
      "cell_type": "markdown",
      "metadata": {
        "id": "OJBkPmQdd2ZC",
        "colab_type": "text"
      },
      "source": [
        "## Avaliação de sistemas de recuperação da informação"
      ]
    },
    {
      "cell_type": "code",
      "metadata": {
        "id": "LQJ8rlIFcmgn",
        "colab_type": "code",
        "colab": {
          "base_uri": "https://localhost:8080/",
          "height": 68
        },
        "outputId": "a6e2e342-a880-4a63-b2e2-8840a4291931"
      },
      "source": [
        "# @title Imports\n",
        "import pandas as pd\n",
        "import math\n",
        "\n",
        "import re\n",
        "\n",
        "import nltk\n",
        "from nltk.corpus import stopwords\n",
        "from nltk.tokenize import RegexpTokenizer\n",
        "\n",
        "nltk.download('stopwords')"
      ],
      "execution_count": 6,
      "outputs": [
        {
          "output_type": "stream",
          "text": [
            "[nltk_data] Downloading package stopwords to /root/nltk_data...\n",
            "[nltk_data]   Package stopwords is already up-to-date!\n"
          ],
          "name": "stdout"
        },
        {
          "output_type": "execute_result",
          "data": {
            "text/plain": [
              "True"
            ]
          },
          "metadata": {
            "tags": []
          },
          "execution_count": 6
        }
      ]
    },
    {
      "cell_type": "markdown",
      "metadata": {
        "id": "cW6iq7kRk2pf",
        "colab_type": "text"
      },
      "source": [
        "Antes de começar a codificar, precisamos importar os dados. Dessa vez, iremos manipular dois tipos de arquivos, o csv com as informações coletadas pelo crawler no jornal El país e um json com resultados de pesquisa de relevância do Google."
      ]
    },
    {
      "cell_type": "code",
      "metadata": {
        "id": "mn39wit4e_Jx",
        "colab_type": "code",
        "colab": {}
      },
      "source": [
        "# @title Dataframe: El país\n",
        "elpais = pd.read_csv(\"https://raw.githubusercontent.com/ivynasantino/mineracao-de-dados/master/02-processamento_de_texto/data/results.csv\")"
      ],
      "execution_count": 0,
      "outputs": []
    },
    {
      "cell_type": "code",
      "metadata": {
        "id": "XZ6vtYvffDEC",
        "colab_type": "code",
        "colab": {}
      },
      "source": [
        "# @title Dataframe: Gabarito\n",
        "gabarito = pd.read_json(\"https://raw.githubusercontent.com/ivynasantino/mineracao-de-dados/master/avaliacao_de_sistemas_RI/results_final.json\")"
      ],
      "execution_count": 0,
      "outputs": []
    },
    {
      "cell_type": "markdown",
      "metadata": {
        "id": "2aUVqsAYmU3Z",
        "colab_type": "text"
      },
      "source": [
        "### Funções auxiliares\n",
        "\n",
        "Para darmos início as implementações, separei funções auxiliares para facilitar a manipulação das estruturas e deixar o código modularido."
      ]
    },
    {
      "cell_type": "code",
      "metadata": {
        "id": "RlWZ0lNFhwfC",
        "colab_type": "code",
        "colab": {}
      },
      "source": [
        "def num_of_docs():\n",
        "  return len(elpais['text'])"
      ],
      "execution_count": 0,
      "outputs": []
    },
    {
      "cell_type": "code",
      "metadata": {
        "id": "dncZocXxhzoJ",
        "colab_type": "code",
        "colab": {}
      },
      "source": [
        "def top10(r):\n",
        "  return sorted(r, key = lambda x: x[1], reverse = True)[:10]"
      ],
      "execution_count": 0,
      "outputs": []
    },
    {
      "cell_type": "code",
      "metadata": {
        "id": "aLk8Ir1AnDaj",
        "colab_type": "code",
        "colab": {}
      },
      "source": [
        "toker = RegexpTokenizer(r'\\w+')\n",
        "stopwords = stopwords.words(\"portuguese\")"
      ],
      "execution_count": 0,
      "outputs": []
    },
    {
      "cell_type": "markdown",
      "metadata": {
        "id": "1EeynVL-lmXW",
        "colab_type": "text"
      },
      "source": [
        "Após isso, iremos repetir algoritmos desenvolvidos em notebooks anteriores para construção de índice invertido e as versões de modelos vetoriais."
      ]
    },
    {
      "cell_type": "markdown",
      "metadata": {
        "id": "05jMyDzGmuuO",
        "colab_type": "text"
      },
      "source": [
        "### Índice invertido"
      ]
    },
    {
      "cell_type": "code",
      "metadata": {
        "id": "Y_SFgFKihP8J",
        "colab_type": "code",
        "colab": {}
      },
      "source": [
        "def buildIndex():\n",
        "  index = {}\n",
        "  n = 0\n",
        "  for doc in elpais.text:\n",
        "    n += 1\n",
        "    tokens = [token for token in toker.tokenize(doc.lower()) \n",
        "              if token not in stopwords \n",
        "              and len(token) > 3\n",
        "              and not bool(re.search(r'\\d', token))]\n",
        " \n",
        "    for t in tokens:\n",
        "      freq = tokens.count(t)\n",
        "      if t not in index:\n",
        "        index[t] = {}\n",
        "      if n not in index[t]:\n",
        "        index[t][n] = freq\n",
        "  return index"
      ],
      "execution_count": 0,
      "outputs": []
    },
    {
      "cell_type": "code",
      "metadata": {
        "id": "229YaWythU9t",
        "colab_type": "code",
        "colab": {}
      },
      "source": [
        "index = buildIndex()"
      ],
      "execution_count": 0,
      "outputs": []
    },
    {
      "cell_type": "code",
      "metadata": {
        "id": "1IGjOZ_ChbNw",
        "colab_type": "code",
        "colab": {}
      },
      "source": [
        "for post in index:\n",
        "  k = len(index[post])\n",
        "  idf = math.log(num_of_docs() + 1) / k\n",
        "  index[post]['idf'] = round(idf, 3)"
      ],
      "execution_count": 0,
      "outputs": []
    },
    {
      "cell_type": "code",
      "metadata": {
        "id": "G3fMv35ihek1",
        "colab_type": "code",
        "colab": {}
      },
      "source": [
        "vocabulary = index.keys()"
      ],
      "execution_count": 0,
      "outputs": []
    },
    {
      "cell_type": "markdown",
      "metadata": {
        "id": "vgDjp77Am0l-",
        "colab_type": "text"
      },
      "source": [
        "### Modelos vetoriais"
      ]
    },
    {
      "cell_type": "code",
      "metadata": {
        "id": "M-gvTXL-hiGE",
        "colab_type": "code",
        "colab": {}
      },
      "source": [
        "def binary_rep(query):\n",
        "  terms = query.split()\n",
        "  tokens = [token for token in toker.tokenize(doc.lower()) \n",
        "              if token not in stopwords \n",
        "              and len(token) > 3\n",
        "              and not bool(re.search(r'\\d', token))]\n",
        "\n",
        "  q = {}\n",
        "  d = {}\n",
        "  \n",
        "  for term in terms:\n",
        "    q[term], d[term] = 0,0\n",
        "    if term in vocabulary:\n",
        "      q[term] = 1\n",
        "    if term in tokens:\n",
        "      d[term] = 1\n",
        "  \n",
        "  m = 0\n",
        "  for term in terms:\n",
        "    if q[term] != 0 and d[term] != 0:\n",
        "      m += q[term] * d[term]\n",
        "  return m"
      ],
      "execution_count": 0,
      "outputs": []
    },
    {
      "cell_type": "code",
      "metadata": {
        "id": "2N_ZWlcvhixb",
        "colab_type": "code",
        "colab": {}
      },
      "source": [
        "def tf_rep(query):\n",
        "  terms = query.split()\n",
        "  tokens = [token for token in toker.tokenize(doc.lower()) \n",
        "              if token not in stopwords \n",
        "              and len(token) > 3\n",
        "              and not bool(re.search(r'\\d', token))]\n",
        "  \n",
        "  q = {}\n",
        "  d = {}\n",
        "  \n",
        "  for term in terms:\n",
        "    q[term], d[term] = 0,0\n",
        "    if term in vocabulary:\n",
        "      q[term] = terms.count(term)\n",
        "      \n",
        "    if term in tokens:\n",
        "      d[term] = tokens.count(term)\n",
        "  \n",
        "  m = 0\n",
        "  for term in terms:\n",
        "    if q[term] != 0 and d[term] != 0:\n",
        "      m += q[term] * d[term]\n",
        "      \n",
        "  return m"
      ],
      "execution_count": 0,
      "outputs": []
    },
    {
      "cell_type": "code",
      "metadata": {
        "id": "Pda6Othfhnjj",
        "colab_type": "code",
        "colab": {}
      },
      "source": [
        "def tf_idf_rep(query):\n",
        "  terms = query.split()\n",
        "  tokens = [token for token in toker.tokenize(doc.lower()) \n",
        "              if token not in stopwords \n",
        "              and len(token) > 3\n",
        "              and not bool(re.search(r'\\d', token))]\n",
        "  \n",
        "  q = {}\n",
        "  d = {}\n",
        "  \n",
        "  for term in terms:\n",
        "    q[term], d[term] = 0,0\n",
        "    if term in vocabulary:\n",
        "      q[term] = terms.count(term)\n",
        "      \n",
        "    if term in tokens:\n",
        "      d[term] = tokens.count(term)\n",
        "  \n",
        "  m = 0\n",
        "  for term in terms:\n",
        "    idf = index[term]['idf']\n",
        "    if q[term] != 0 and d[term] != 0:\n",
        "      m += q[term] * d[term] * idf\n",
        "      \n",
        "  return round(m , 2)"
      ],
      "execution_count": 0,
      "outputs": []
    },
    {
      "cell_type": "code",
      "metadata": {
        "id": "UbMIC2MghqX2",
        "colab_type": "code",
        "colab": {}
      },
      "source": [
        "def bm25_rep(query, k):\n",
        "  terms = query.split()\n",
        "  tokens = [token for token in toker.tokenize(doc.lower()) \n",
        "              if token not in stopwords \n",
        "              and len(token) > 3\n",
        "              and not bool(re.search(r'\\d', token))]\n",
        "  mtd = []\n",
        "  for term in terms:\n",
        "    if term in tokens:\n",
        "      mtd.append(term)\n",
        "  \n",
        "  m = 0\n",
        "  for mt in mtd:\n",
        "    cq = terms.count(mt)\n",
        "    cd = tokens.count(mt)\n",
        "    m = num_of_docs()\n",
        "    dw = len(index[mt].keys()) - 1\n",
        "    m += cq * (((k + 1) * cd) / (cd + k)) * math.log((m + 1) / dw)\n",
        "    \n",
        "  return round(m, 2)"
      ],
      "execution_count": 0,
      "outputs": []
    },
    {
      "cell_type": "markdown",
      "metadata": {
        "id": "R6Bh49Z8nG4o",
        "colab_type": "text"
      },
      "source": [
        "Após a construção das versões, iremos plotar a tabela com os resultados de cada modelo."
      ]
    },
    {
      "cell_type": "code",
      "metadata": {
        "id": "_IonHdqgj4ln",
        "colab_type": "code",
        "colab": {}
      },
      "source": [
        "document = \"jair bolsonaro\""
      ],
      "execution_count": 0,
      "outputs": []
    },
    {
      "cell_type": "code",
      "metadata": {
        "id": "I4ig6zPJju0d",
        "colab_type": "code",
        "colab": {}
      },
      "source": [
        "query = ['ditadura militar', 'política', 'golpe militar']"
      ],
      "execution_count": 0,
      "outputs": []
    },
    {
      "cell_type": "code",
      "metadata": {
        "id": "ngP4MvwijXBs",
        "colab_type": "code",
        "colab": {}
      },
      "source": [
        "data = {\n",
        "    'query': [],\n",
        "    'binary': [],\n",
        "    'tf': [],\n",
        "    'tf_idf': [],\n",
        "    'bm25': []\n",
        "}\n",
        "\n",
        "for q in query:\n",
        "  binary, tf, tf_idf, bm25 = [], [], [], []\n",
        "  n = 0\n",
        "\n",
        "  for doc in elpais.text:\n",
        "    binary.append((n ,binary_rep(q)))\n",
        "    tf.append((n, tf_rep(q)))\n",
        "    tf_idf.append((n, tf_idf_rep(q)))\n",
        "    bm25.append((n, bm25_rep(q, 10)))\n",
        "    n += 1\n",
        "\n",
        "  data['query'].append(q)\n",
        "  data['binary'].append(top10(binary))\n",
        "  data['tf'].append(top10(tf))\n",
        "  data['tf_idf'].append(top10(tf_idf))\n",
        "  data['bm25'].append(top10(bm25))"
      ],
      "execution_count": 0,
      "outputs": []
    },
    {
      "cell_type": "code",
      "metadata": {
        "id": "Ix4rkBzSjwgu",
        "colab_type": "code",
        "colab": {
          "base_uri": "https://localhost:8080/",
          "height": 193
        },
        "outputId": "ae7ba80b-3754-423b-c71a-4c75db98e6a3"
      },
      "source": [
        "pd.options.display.max_colwidth = 100\n",
        "pd.DataFrame(data)"
      ],
      "execution_count": 22,
      "outputs": [
        {
          "output_type": "execute_result",
          "data": {
            "text/html": [
              "<div>\n",
              "<style scoped>\n",
              "    .dataframe tbody tr th:only-of-type {\n",
              "        vertical-align: middle;\n",
              "    }\n",
              "\n",
              "    .dataframe tbody tr th {\n",
              "        vertical-align: top;\n",
              "    }\n",
              "\n",
              "    .dataframe thead th {\n",
              "        text-align: right;\n",
              "    }\n",
              "</style>\n",
              "<table border=\"1\" class=\"dataframe\">\n",
              "  <thead>\n",
              "    <tr style=\"text-align: right;\">\n",
              "      <th></th>\n",
              "      <th>query</th>\n",
              "      <th>binary</th>\n",
              "      <th>tf</th>\n",
              "      <th>tf_idf</th>\n",
              "      <th>bm25</th>\n",
              "    </tr>\n",
              "  </thead>\n",
              "  <tbody>\n",
              "    <tr>\n",
              "      <th>0</th>\n",
              "      <td>ditadura militar</td>\n",
              "      <td>[(0, 2), (2, 2), (5, 2), (6, 2), (24, 2), (62, 2), (94, 2), (103, 2), (113, 2), (114, 2)]</td>\n",
              "      <td>[(6, 25), (114, 18), (215, 16), (222, 16), (237, 16), (229, 15), (2, 13), (24, 13), (94, 12), (1...</td>\n",
              "      <td>[(6, 4.06), (237, 2.81), (215, 2.65), (229, 2.54), (114, 2.5), (222, 2.19), (94, 2.05), (164, 2....</td>\n",
              "      <td>[(114, 258.78), (222, 258.39), (24, 257.96), (6, 257.49), (2, 256.97), (207, 256.97), (103, 255....</td>\n",
              "    </tr>\n",
              "    <tr>\n",
              "      <th>1</th>\n",
              "      <td>política</td>\n",
              "      <td>[(0, 1), (4, 1), (6, 1), (7, 1), (14, 1), (18, 1), (19, 1), (22, 1), (23, 1), (24, 1)]</td>\n",
              "      <td>[(68, 9), (165, 7), (234, 7), (203, 6), (62, 5), (137, 5), (151, 5), (164, 5), (172, 5), (6, 4)]</td>\n",
              "      <td>[(68, 0.57), (165, 0.44), (234, 0.44), (203, 0.38), (62, 0.32), (137, 0.32), (151, 0.32), (164, ...</td>\n",
              "      <td>[(68, 254.5), (165, 253.78), (234, 253.78), (203, 253.35), (62, 252.87), (137, 252.87), (151, 25...</td>\n",
              "    </tr>\n",
              "    <tr>\n",
              "      <th>2</th>\n",
              "      <td>golpe militar</td>\n",
              "      <td>[(0, 2), (1, 2), (2, 2), (24, 2), (82, 2), (98, 2), (113, 2), (119, 2), (150, 2), (164, 2)]</td>\n",
              "      <td>[(24, 23), (2, 15), (207, 14), (222, 14), (114, 12), (6, 9), (164, 8), (215, 8), (229, 8), (0, 7)]</td>\n",
              "      <td>[(24, 4.39), (2, 2.66), (207, 2.41), (222, 2.0), (165, 1.62), (164, 1.59), (229, 1.46), (114, 1....</td>\n",
              "      <td>[(114, 258.78), (222, 258.39), (24, 257.96), (6, 257.49), (2, 256.97), (207, 256.97), (103, 255....</td>\n",
              "    </tr>\n",
              "  </tbody>\n",
              "</table>\n",
              "</div>"
            ],
            "text/plain": [
              "              query  ...                                                                                                 bm25\n",
              "0  ditadura militar  ...  [(114, 258.78), (222, 258.39), (24, 257.96), (6, 257.49), (2, 256.97), (207, 256.97), (103, 255....\n",
              "1          política  ...  [(68, 254.5), (165, 253.78), (234, 253.78), (203, 253.35), (62, 252.87), (137, 252.87), (151, 25...\n",
              "2     golpe militar  ...  [(114, 258.78), (222, 258.39), (24, 257.96), (6, 257.49), (2, 256.97), (207, 256.97), (103, 255....\n",
              "\n",
              "[3 rows x 5 columns]"
            ]
          },
          "metadata": {
            "tags": []
          },
          "execution_count": 22
        }
      ]
    }
  ]
}