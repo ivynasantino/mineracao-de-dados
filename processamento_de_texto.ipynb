{
  "nbformat": 4,
  "nbformat_minor": 0,
  "metadata": {
    "colab": {
      "name": "processamento_de_texto.ipynb",
      "version": "0.3.2",
      "provenance": [],
      "collapsed_sections": [],
      "include_colab_link": true
    },
    "kernelspec": {
      "name": "python3",
      "display_name": "Python 3"
    }
  },
  "cells": [
    {
      "cell_type": "markdown",
      "metadata": {
        "id": "view-in-github",
        "colab_type": "text"
      },
      "source": [
        "<a href=\"https://colab.research.google.com/github/ivynasantino/mineracao-de-dados/blob/master/processamento_de_texto.ipynb\" target=\"_parent\"><img src=\"https://colab.research.google.com/assets/colab-badge.svg\" alt=\"Open In Colab\"/></a>"
      ]
    },
    {
      "metadata": {
        "id": "9lwZPoWh01rh",
        "colab_type": "text"
      },
      "cell_type": "markdown",
      "source": [
        "# Estatística de coleção e Lei de Zipf"
      ]
    },
    {
      "metadata": {
        "id": "bs8mqPv00_rS",
        "colab_type": "text"
      },
      "cell_type": "markdown",
      "source": [
        "Nessa atividade iremos exercitar alguns conceitos sobre processamento de texto vistos em sala de aula usando a coleção coletada pelo crawler de sites de notícias. Diante disso, iremos responder algumas perguntas ao decorrer do notebook."
      ]
    },
    {
      "metadata": {
        "id": "IFI3qSwR1-YU",
        "colab_type": "text"
      },
      "cell_type": "markdown",
      "source": [
        "Antes de tudo, é necessário importar os pacotes que serão utilizados para manipulação dos dados, processamento textual, visualização e o csv que reúne as notícias coletadas anteriormente."
      ]
    },
    {
      "metadata": {
        "id": "PYbtQahw3Hlf",
        "colab_type": "code",
        "colab": {}
      },
      "cell_type": "code",
      "source": [
        "import pandas as pd\n",
        "\n",
        "import nltk\n",
        "\n",
        "import seaborn as sns\n",
        "import plotly.plotly as py\n"
      ],
      "execution_count": 0,
      "outputs": []
    },
    {
      "metadata": {
        "id": "kSZjBnft4Xmi",
        "colab_type": "code",
        "colab": {}
      },
      "cell_type": "code",
      "source": [
        "carta_capital = pd.read_csv(\"https://raw.githubusercontent.com/ivynasantino/ri_lab_01/carta-capital/output/results.csv\")\n",
        "carta_capital"
      ],
      "execution_count": 0,
      "outputs": []
    }
  ]
}