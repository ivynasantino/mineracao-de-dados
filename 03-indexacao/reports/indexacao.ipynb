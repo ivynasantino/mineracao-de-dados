{
  "nbformat": 4,
  "nbformat_minor": 0,
  "metadata": {
    "colab": {
      "name": "indexacao.ipynb",
      "version": "0.3.2",
      "provenance": [],
      "include_colab_link": true
    },
    "kernelspec": {
      "name": "python3",
      "display_name": "Python 3"
    }
  },
  "cells": [
    {
      "cell_type": "markdown",
      "metadata": {
        "id": "view-in-github",
        "colab_type": "text"
      },
      "source": [
        "<a href=\"https://colab.research.google.com/github/ivynasantino/mineracao-de-dados/blob/master/03-indexacao/reports/indexacao.ipynb\" target=\"_parent\"><img src=\"https://colab.research.google.com/assets/colab-badge.svg\" alt=\"Open In Colab\"/></a>"
      ]
    },
    {
      "cell_type": "markdown",
      "metadata": {
        "id": "iE6to9XH7Tku",
        "colab_type": "text"
      },
      "source": [
        "## Indexação e processamento de consulta\n",
        "\n",
        "Nesse notebook iremos exercitar os conceitos de indexação e processamento de consultas vistos em sala utilizando a base de dados das notícias do jornal El país."
      ]
    },
    {
      "cell_type": "markdown",
      "metadata": {
        "id": "LmU3_43N8l-E",
        "colab_type": "text"
      },
      "source": [
        "### Importando dados\n",
        "Antes de tudo, é necessário importar os pacotes para tratamento de dados, processamento de texto e para gerar as visualizações ao final do notebook."
      ]
    },
    {
      "cell_type": "code",
      "metadata": {
        "id": "bTn-ZEcc7j0k",
        "colab_type": "code",
        "colab": {
          "base_uri": "https://localhost:8080/",
          "height": 170
        },
        "outputId": "0ee1e18e-c1fe-4358-9095-82551ff76bee"
      },
      "source": [
        "import pandas as pd\n",
        "import numpy as np\n",
        "\n",
        "import re\n",
        "import collections\n",
        "\n",
        "import nltk\n",
        "from nltk.corpus import stopwords\n",
        "from nltk.tokenize import RegexpTokenizer\n",
        "from nltk.stem import RSLPStemmer\n",
        "\n",
        "nltk.download('punkt')\n",
        "nltk.download('rslp')\n",
        "nltk.download('stopwords')\n",
        "nltk.download('averaged_perceptron_tagger')\n",
        "\n",
        "import matplotlib.pyplot as plt\n",
        "import seaborn as sns"
      ],
      "execution_count": 1,
      "outputs": [
        {
          "output_type": "stream",
          "text": [
            "[nltk_data] Downloading package punkt to /root/nltk_data...\n",
            "[nltk_data]   Unzipping tokenizers/punkt.zip.\n",
            "[nltk_data] Downloading package rslp to /root/nltk_data...\n",
            "[nltk_data]   Unzipping stemmers/rslp.zip.\n",
            "[nltk_data] Downloading package stopwords to /root/nltk_data...\n",
            "[nltk_data]   Unzipping corpora/stopwords.zip.\n",
            "[nltk_data] Downloading package averaged_perceptron_tagger to\n",
            "[nltk_data]     /root/nltk_data...\n",
            "[nltk_data]   Unzipping taggers/averaged_perceptron_tagger.zip.\n"
          ],
          "name": "stdout"
        }
      ]
    },
    {
      "cell_type": "code",
      "metadata": {
        "id": "1QLSflhR8u2t",
        "colab_type": "code",
        "colab": {}
      },
      "source": [
        "elpais = pd.read_csv(\"https://raw.githubusercontent.com/ivynasantino/mineracao-de-dados/master/02-processamento_de_texto/data/results.csv\")"
      ],
      "execution_count": 0,
      "outputs": []
    },
    {
      "cell_type": "markdown",
      "metadata": {
        "id": "oln6rwXs88St",
        "colab_type": "text"
      },
      "source": [
        "#### 1. Execute o algoritmo ilustrado na Fig. 5.8 do livro texto (pag. 157) para gerar um índice similar o mostrado na Fig. 5.4 (pag. 134). Guarde o índice em disco em formato csv.\n",
        "\n",
        "#### 2. Implemente as abordagens de processamento de consulta documento-por-vez e termo-por-vez (Fig. 5.16 e 5.18).\n",
        "  **a)** Defina 5 consultas de um termo somente.\n",
        "  \n",
        "  **b)** Execute as 5 consultas em cada algoritmo retornando os top-10 documentos (parâmetro k do algoritmo).\n",
        "  \n",
        "  **c)** Dê evidências de que sua implementação está correta.\n",
        "  \n",
        "  **d)** Compare os tempos médios de execução e uso de memória de cada algoritmo.\n",
        "  \n",
        "#### 3. Implemente uma das versões de consulta conjuntiva (AND) (Fig. 5.20 ou 5.21).\n",
        "  **a)** Defina 5 consultas conjuntivas (AND).\n",
        "  \n",
        "  **b)** Execute as 5 consultas em cada algoritmo retornando os top-10 documentos (parâmetro k do algoritmo).\n",
        "  \n",
        "  **c)** Dê evidências de que sua implementação está correta. "
      ]
    }
  ]
}